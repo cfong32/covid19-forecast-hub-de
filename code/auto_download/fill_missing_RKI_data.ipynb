{
 "cells": [
  {
   "cell_type": "code",
   "execution_count": 139,
   "id": "configured-worker",
   "metadata": {},
   "outputs": [],
   "source": [
    "import pandas as pd"
   ]
  },
  {
   "cell_type": "code",
   "execution_count": 154,
   "id": "ordered-dancing",
   "metadata": {},
   "outputs": [],
   "source": [
    "target = 'Deaths'"
   ]
  },
  {
   "cell_type": "markdown",
   "id": "alpine-atmosphere",
   "metadata": {},
   "source": [
    "### Cumulative"
   ]
  },
  {
   "cell_type": "code",
   "execution_count": 155,
   "id": "affecting-velvet",
   "metadata": {},
   "outputs": [],
   "source": [
    "df = pd.read_csv(f'../../data-truth/RKI/truth_RKI-Cumulative {target}_Germany.csv')\n",
    "\n",
    "df2 = df[df.date.between('2022-02-01', '2022-02-03')]\n",
    "\n",
    "df2 = df2.groupby(['location', 'location_name'])['value'].mean().round().reset_index()\n",
    "\n",
    "df2['date'] = '2022-02-02'\n",
    "\n",
    "df_new = df.append(df2, ignore_index=True).sort_values(['date', 'location'], ignore_index=True)\n",
    "\n",
    "df_new.value = df_new.value.astype(int)\n",
    "\n",
    "df_new.to_csv(f'../../data-truth/RKI/truth_RKI-Cumulative {target}_Germany2.csv', index=False)"
   ]
  },
  {
   "cell_type": "code",
   "execution_count": 156,
   "id": "internal-ontario",
   "metadata": {},
   "outputs": [],
   "source": [
    "# df_new[df_new.date.between('2022-02-01', '2022-02-03')]"
   ]
  },
  {
   "cell_type": "markdown",
   "id": "expressed-zambia",
   "metadata": {},
   "source": [
    "### Incidence"
   ]
  },
  {
   "cell_type": "code",
   "execution_count": 157,
   "id": "proved-perspective",
   "metadata": {},
   "outputs": [],
   "source": [
    "df_inc = df_new.copy()\n",
    "df_inc.value = df_inc.groupby(['location'])['value'].diff()\n",
    "df_inc.dropna(inplace=True)\n",
    "df_inc.value = df_inc.value.astype(int)\n",
    "\n",
    "df_inc.to_csv(f'../../data-truth/RKI/truth_RKI-Incident {target}_Germany2.csv', index=False)"
   ]
  },
  {
   "cell_type": "markdown",
   "id": "controlling-greece",
   "metadata": {},
   "source": [
    "# By Age"
   ]
  },
  {
   "cell_type": "code",
   "execution_count": 158,
   "id": "regular-reaction",
   "metadata": {},
   "outputs": [],
   "source": [
    "target = 'Deaths'"
   ]
  },
  {
   "cell_type": "markdown",
   "id": "heard-bloom",
   "metadata": {},
   "source": [
    "### Cumulative"
   ]
  },
  {
   "cell_type": "code",
   "execution_count": 159,
   "id": "incorporated-light",
   "metadata": {},
   "outputs": [],
   "source": [
    "df = pd.read_csv(f'../../data-truth/RKI/by_age/truth_RKI-Cumulative {target} by Age_Germany.csv')"
   ]
  },
  {
   "cell_type": "code",
   "execution_count": 160,
   "id": "laughing-collectible",
   "metadata": {},
   "outputs": [],
   "source": [
    "df2 = df[df.date.between('2022-02-01', '2022-02-03')]"
   ]
  },
  {
   "cell_type": "code",
   "execution_count": 161,
   "id": "demanding-popularity",
   "metadata": {},
   "outputs": [],
   "source": [
    "# df2[(df2.location == \"GM\") & (df2.age_group == \"A35-A59\")]"
   ]
  },
  {
   "cell_type": "code",
   "execution_count": 162,
   "id": "talented-situation",
   "metadata": {},
   "outputs": [],
   "source": [
    "df2 = df2.groupby(['location', 'location_name', 'age_group'])['value'].mean().round().reset_index()"
   ]
  },
  {
   "cell_type": "code",
   "execution_count": 163,
   "id": "hazardous-mistress",
   "metadata": {},
   "outputs": [],
   "source": [
    "df2['date'] = '2022-02-02'"
   ]
  },
  {
   "cell_type": "code",
   "execution_count": 164,
   "id": "desirable-airplane",
   "metadata": {},
   "outputs": [],
   "source": [
    "df_new = df.append(df2, ignore_index=True).sort_values(['date', 'location', 'age_group'], ignore_index=True)"
   ]
  },
  {
   "cell_type": "code",
   "execution_count": 165,
   "id": "bound-gravity",
   "metadata": {},
   "outputs": [],
   "source": [
    "df_new.value = df_new.value.astype(int)\n",
    "\n",
    "df_new.to_csv(f'../../data-truth/RKI/by_age/truth_RKI-Cumulative {target} by Age_Germany2.csv', index=False)"
   ]
  },
  {
   "cell_type": "code",
   "execution_count": 166,
   "id": "institutional-orleans",
   "metadata": {},
   "outputs": [],
   "source": [
    "# df_new[(df_new.location == \"GM\") & (df_new.age_group == \"A35-A59\") & (df_new.date.between('2022-02-01', '2022-02-03'))]"
   ]
  },
  {
   "cell_type": "markdown",
   "id": "silver-tuition",
   "metadata": {},
   "source": [
    "### Incidence"
   ]
  },
  {
   "cell_type": "code",
   "execution_count": 167,
   "id": "bound-thanks",
   "metadata": {},
   "outputs": [],
   "source": [
    "df_inc = df_new.copy()\n",
    "df_inc.value = df_inc.groupby(['location', 'age_group'])['value'].diff()\n",
    "df_inc.dropna(inplace=True)\n",
    "df_inc.value = df_inc.value.astype(int)\n",
    "\n",
    "df_inc.to_csv(f'../../data-truth/RKI/by_age/truth_RKI-Incident {target} by Age_Germany2.csv', index=False)"
   ]
  }
 ],
 "metadata": {
  "kernelspec": {
   "display_name": "Python 3",
   "language": "python",
   "name": "python3"
  },
  "language_info": {
   "codemirror_mode": {
    "name": "ipython",
    "version": 3
   },
   "file_extension": ".py",
   "mimetype": "text/x-python",
   "name": "python",
   "nbconvert_exporter": "python",
   "pygments_lexer": "ipython3",
   "version": "3.8.8"
  }
 },
 "nbformat": 4,
 "nbformat_minor": 5
}
