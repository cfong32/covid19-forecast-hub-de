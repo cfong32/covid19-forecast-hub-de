{
 "cells": [
  {
   "cell_type": "code",
   "execution_count": 1,
   "id": "prescription-slave",
   "metadata": {},
   "outputs": [],
   "source": [
    "import pandas as pd"
   ]
  },
  {
   "cell_type": "code",
   "execution_count": 39,
   "id": "anticipated-leeds",
   "metadata": {},
   "outputs": [],
   "source": [
    "target = 'Deaths'"
   ]
  },
  {
   "cell_type": "markdown",
   "id": "existing-affect",
   "metadata": {},
   "source": [
    "### Cumulative"
   ]
  },
  {
   "cell_type": "code",
   "execution_count": 40,
   "id": "alone-pitch",
   "metadata": {},
   "outputs": [],
   "source": [
    "df = pd.read_csv(f'../../data-truth/RKI/truth_RKI-Cumulative {target}_Germany.csv')\n",
    "\n",
    "df2 = df[df.date.between('2022-02-01', '2022-02-03')]\n",
    "\n",
    "df2 = df2.groupby(['location', 'location_name'])['value'].mean().round().reset_index()\n",
    "\n",
    "df2['date'] = '2022-02-02'\n",
    "\n",
    "df_new = df.append(df2, ignore_index=True).sort_values(['date', 'location'], ignore_index=True)\n",
    "\n",
    "df_new.value = df_new.value.astype(int)\n",
    "\n",
    "df_new.to_csv(f'../../data-truth/RKI/truth_RKI-Cumulative {target}_Germany2.csv')"
   ]
  },
  {
   "cell_type": "code",
   "execution_count": 41,
   "id": "quiet-northwest",
   "metadata": {},
   "outputs": [],
   "source": [
    "# df_new[df_new.date.between('2022-02-01', '2022-02-03')]"
   ]
  },
  {
   "cell_type": "markdown",
   "id": "powered-portsmouth",
   "metadata": {},
   "source": [
    "### Incidence"
   ]
  },
  {
   "cell_type": "code",
   "execution_count": 42,
   "id": "latest-display",
   "metadata": {},
   "outputs": [],
   "source": [
    "df_inc = df_new.copy()\n",
    "df_inc.value = df_inc.groupby(['location'])['value'].diff()\n",
    "df_inc.dropna(inplace=True)\n",
    "df_inc.value = df_inc.value.astype(int)\n",
    "\n",
    "df_inc.to_csv(f'../../data-truth/RKI/truth_RKI-Incident {target}_Germany2.csv', index=False)"
   ]
  },
  {
   "cell_type": "markdown",
   "id": "orange-rates",
   "metadata": {},
   "source": [
    "# By Age"
   ]
  },
  {
   "cell_type": "code",
   "execution_count": 100,
   "id": "private-stopping",
   "metadata": {},
   "outputs": [],
   "source": [
    "target = 'Deaths'"
   ]
  },
  {
   "cell_type": "markdown",
   "id": "intelligent-christian",
   "metadata": {},
   "source": [
    "### Cumulative"
   ]
  },
  {
   "cell_type": "code",
   "execution_count": 101,
   "id": "executive-guinea",
   "metadata": {},
   "outputs": [],
   "source": [
    "df = pd.read_csv(f'../../data-truth/RKI/by_age/truth_RKI-Cumulative {target} by Age_Germany.csv')"
   ]
  },
  {
   "cell_type": "code",
   "execution_count": 102,
   "id": "roman-syntax",
   "metadata": {},
   "outputs": [],
   "source": [
    "df2 = df[df.date.between('2022-02-01', '2022-02-03')]"
   ]
  },
  {
   "cell_type": "code",
   "execution_count": 103,
   "id": "returning-chess",
   "metadata": {},
   "outputs": [
    {
     "data": {
      "text/html": [
       "<div>\n",
       "<style scoped>\n",
       "    .dataframe tbody tr th:only-of-type {\n",
       "        vertical-align: middle;\n",
       "    }\n",
       "\n",
       "    .dataframe tbody tr th {\n",
       "        vertical-align: top;\n",
       "    }\n",
       "\n",
       "    .dataframe thead th {\n",
       "        text-align: right;\n",
       "    }\n",
       "</style>\n",
       "<table border=\"1\" class=\"dataframe\">\n",
       "  <thead>\n",
       "    <tr style=\"text-align: right;\">\n",
       "      <th></th>\n",
       "      <th>date</th>\n",
       "      <th>location</th>\n",
       "      <th>location_name</th>\n",
       "      <th>age_group</th>\n",
       "      <th>value</th>\n",
       "    </tr>\n",
       "  </thead>\n",
       "  <tbody>\n",
       "    <tr>\n",
       "      <th>50089</th>\n",
       "      <td>2022-02-01</td>\n",
       "      <td>GM</td>\n",
       "      <td>Germany</td>\n",
       "      <td>A35-A59</td>\n",
       "      <td>6178</td>\n",
       "    </tr>\n",
       "    <tr>\n",
       "      <th>50178</th>\n",
       "      <td>2022-02-03</td>\n",
       "      <td>GM</td>\n",
       "      <td>Germany</td>\n",
       "      <td>A35-A59</td>\n",
       "      <td>6213</td>\n",
       "    </tr>\n",
       "  </tbody>\n",
       "</table>\n",
       "</div>"
      ],
      "text/plain": [
       "             date location location_name age_group  value\n",
       "50089  2022-02-01       GM       Germany   A35-A59   6178\n",
       "50178  2022-02-03       GM       Germany   A35-A59   6213"
      ]
     },
     "execution_count": 103,
     "metadata": {},
     "output_type": "execute_result"
    }
   ],
   "source": [
    "# df2[(df2.location == \"GM\") & (df2.age_group == \"A35-A59\")]"
   ]
  },
  {
   "cell_type": "code",
   "execution_count": 104,
   "id": "forward-miller",
   "metadata": {},
   "outputs": [],
   "source": [
    "df2 = df2.groupby(['location', 'location_name', 'age_group'])['value'].mean().round().reset_index()"
   ]
  },
  {
   "cell_type": "code",
   "execution_count": 105,
   "id": "descending-kazakhstan",
   "metadata": {},
   "outputs": [],
   "source": [
    "df2['date'] = '2022-02-02'"
   ]
  },
  {
   "cell_type": "code",
   "execution_count": 106,
   "id": "piano-glass",
   "metadata": {},
   "outputs": [],
   "source": [
    "df_new = df.append(df2, ignore_index=True).sort_values(['date', 'location', 'age_group'], ignore_index=True)"
   ]
  },
  {
   "cell_type": "code",
   "execution_count": 107,
   "id": "continuous-reward",
   "metadata": {},
   "outputs": [],
   "source": [
    "df_new.value = df_new.value.astype(int)\n",
    "\n",
    "df_new.to_csv(f'../../data-truth/RKI/by_age/truth_RKI-Cumulative {target} by Age_Germany2.csv')"
   ]
  },
  {
   "cell_type": "code",
   "execution_count": 108,
   "id": "basic-affiliate",
   "metadata": {},
   "outputs": [
    {
     "data": {
      "text/html": [
       "<div>\n",
       "<style scoped>\n",
       "    .dataframe tbody tr th:only-of-type {\n",
       "        vertical-align: middle;\n",
       "    }\n",
       "\n",
       "    .dataframe tbody tr th {\n",
       "        vertical-align: top;\n",
       "    }\n",
       "\n",
       "    .dataframe thead th {\n",
       "        text-align: right;\n",
       "    }\n",
       "</style>\n",
       "<table border=\"1\" class=\"dataframe\">\n",
       "  <thead>\n",
       "    <tr style=\"text-align: right;\">\n",
       "      <th></th>\n",
       "      <th>date</th>\n",
       "      <th>location</th>\n",
       "      <th>location_name</th>\n",
       "      <th>age_group</th>\n",
       "      <th>value</th>\n",
       "    </tr>\n",
       "  </thead>\n",
       "  <tbody>\n",
       "    <tr>\n",
       "      <th>50089</th>\n",
       "      <td>2022-02-01</td>\n",
       "      <td>GM</td>\n",
       "      <td>Germany</td>\n",
       "      <td>A35-A59</td>\n",
       "      <td>6178</td>\n",
       "    </tr>\n",
       "    <tr>\n",
       "      <th>50178</th>\n",
       "      <td>2022-02-02</td>\n",
       "      <td>GM</td>\n",
       "      <td>Germany</td>\n",
       "      <td>A35-A59</td>\n",
       "      <td>6196</td>\n",
       "    </tr>\n",
       "    <tr>\n",
       "      <th>50267</th>\n",
       "      <td>2022-02-03</td>\n",
       "      <td>GM</td>\n",
       "      <td>Germany</td>\n",
       "      <td>A35-A59</td>\n",
       "      <td>6213</td>\n",
       "    </tr>\n",
       "  </tbody>\n",
       "</table>\n",
       "</div>"
      ],
      "text/plain": [
       "             date location location_name age_group  value\n",
       "50089  2022-02-01       GM       Germany   A35-A59   6178\n",
       "50178  2022-02-02       GM       Germany   A35-A59   6196\n",
       "50267  2022-02-03       GM       Germany   A35-A59   6213"
      ]
     },
     "execution_count": 108,
     "metadata": {},
     "output_type": "execute_result"
    }
   ],
   "source": [
    "# df_new[(df_new.location == \"GM\") & (df_new.age_group == \"A35-A59\") & (df_new.date.between('2022-02-01', '2022-02-03'))]"
   ]
  },
  {
   "cell_type": "markdown",
   "id": "exposed-phone",
   "metadata": {},
   "source": [
    "### Incidence"
   ]
  },
  {
   "cell_type": "code",
   "execution_count": 109,
   "id": "addressed-nirvana",
   "metadata": {},
   "outputs": [],
   "source": [
    "df_inc = df_new.copy()\n",
    "df_inc.value = df_inc.groupby(['location', 'age_group'])['value'].diff()\n",
    "df_inc.dropna(inplace=True)\n",
    "df_inc.value = df_inc.value.astype(int)\n",
    "\n",
    "df_inc.to_csv(f'../../data-truth/RKI/by_age/truth_RKI-Incident {target} by Age_Germany2.csv', index=False)"
   ]
  }
 ],
 "metadata": {
  "kernelspec": {
   "display_name": "Python 3",
   "language": "python",
   "name": "python3"
  },
  "language_info": {
   "codemirror_mode": {
    "name": "ipython",
    "version": 3
   },
   "file_extension": ".py",
   "mimetype": "text/x-python",
   "name": "python",
   "nbconvert_exporter": "python",
   "pygments_lexer": "ipython3",
   "version": "3.8.8"
  }
 },
 "nbformat": 4,
 "nbformat_minor": 5
}
